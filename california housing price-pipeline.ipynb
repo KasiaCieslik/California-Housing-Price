{
 "cells": [
  {
   "cell_type": "code",
   "execution_count": 3,
   "metadata": {},
   "outputs": [],
   "source": [
    "import pandas as pd\n",
    "import numpy as np\n",
    "import matplotlib.pyplot as plt\n",
    "\n",
    "from sklearn.linear_model import LinearRegression\n",
    "from sklearn.ensemble import RandomForestRegressor\n",
    "from sklearn.tree import DecisionTreeRegressor\n",
    "from sklearn.metrics import mean_squared_error\n",
    "from sklearn.model_selection import cross_val_score\n",
    "from sklearn.model_selection import GridSearchCV\n",
    "from sklearn.model_selection import RandomizedSearchCV\n",
    "from scipy.stats import randint\n",
    "from sklearn.svm import SVR\n",
    "from sklearn.preprocessing import OneHotEncoder\n",
    "from sklearn.model_selection import train_test_split\n",
    "from sklearn.model_selection import StratifiedShuffleSplit\n",
    "from sklearn.preprocessing import Imputer\n",
    "from sklearn.preprocessing import OneHotEncoder\n",
    "from sklearn.base import BaseEstimator, TransformerMixin\n",
    "from sklearn.pipeline import Pipeline\n",
    "from sklearn.preprocessing import StandardScaler\n",
    "from sklearn.pipeline import FeatureUnion\n",
    "from sklearn.feature_selection import SelectFromModel\n",
    "\n",
    "%matplotlib inline\n"
   ]
  },
  {
   "cell_type": "code",
   "execution_count": 4,
   "metadata": {},
   "outputs": [],
   "source": [
    "def load_the_data(path):\n",
    "    return pd.read_csv(path)"
   ]
  },
  {
   "cell_type": "markdown",
   "metadata": {},
   "source": [
    "### Take a quick look at the data"
   ]
  },
  {
   "cell_type": "code",
   "execution_count": 5,
   "metadata": {},
   "outputs": [
    {
     "data": {
      "text/html": [
       "<div>\n",
       "<style scoped>\n",
       "    .dataframe tbody tr th:only-of-type {\n",
       "        vertical-align: middle;\n",
       "    }\n",
       "\n",
       "    .dataframe tbody tr th {\n",
       "        vertical-align: top;\n",
       "    }\n",
       "\n",
       "    .dataframe thead th {\n",
       "        text-align: right;\n",
       "    }\n",
       "</style>\n",
       "<table border=\"1\" class=\"dataframe\">\n",
       "  <thead>\n",
       "    <tr style=\"text-align: right;\">\n",
       "      <th></th>\n",
       "      <th>longitude</th>\n",
       "      <th>latitude</th>\n",
       "      <th>housing_median_age</th>\n",
       "      <th>total_rooms</th>\n",
       "      <th>total_bedrooms</th>\n",
       "      <th>population</th>\n",
       "      <th>households</th>\n",
       "      <th>median_income</th>\n",
       "      <th>median_house_value</th>\n",
       "      <th>ocean_proximity</th>\n",
       "    </tr>\n",
       "  </thead>\n",
       "  <tbody>\n",
       "    <tr>\n",
       "      <td>0</td>\n",
       "      <td>-122.23</td>\n",
       "      <td>37.88</td>\n",
       "      <td>41.0</td>\n",
       "      <td>880.0</td>\n",
       "      <td>129.0</td>\n",
       "      <td>322.0</td>\n",
       "      <td>126.0</td>\n",
       "      <td>8.3252</td>\n",
       "      <td>452600.0</td>\n",
       "      <td>NEAR BAY</td>\n",
       "    </tr>\n",
       "    <tr>\n",
       "      <td>1</td>\n",
       "      <td>-122.22</td>\n",
       "      <td>37.86</td>\n",
       "      <td>21.0</td>\n",
       "      <td>7099.0</td>\n",
       "      <td>1106.0</td>\n",
       "      <td>2401.0</td>\n",
       "      <td>1138.0</td>\n",
       "      <td>8.3014</td>\n",
       "      <td>358500.0</td>\n",
       "      <td>NEAR BAY</td>\n",
       "    </tr>\n",
       "    <tr>\n",
       "      <td>2</td>\n",
       "      <td>-122.24</td>\n",
       "      <td>37.85</td>\n",
       "      <td>52.0</td>\n",
       "      <td>1467.0</td>\n",
       "      <td>190.0</td>\n",
       "      <td>496.0</td>\n",
       "      <td>177.0</td>\n",
       "      <td>7.2574</td>\n",
       "      <td>352100.0</td>\n",
       "      <td>NEAR BAY</td>\n",
       "    </tr>\n",
       "    <tr>\n",
       "      <td>3</td>\n",
       "      <td>-122.25</td>\n",
       "      <td>37.85</td>\n",
       "      <td>52.0</td>\n",
       "      <td>1274.0</td>\n",
       "      <td>235.0</td>\n",
       "      <td>558.0</td>\n",
       "      <td>219.0</td>\n",
       "      <td>5.6431</td>\n",
       "      <td>341300.0</td>\n",
       "      <td>NEAR BAY</td>\n",
       "    </tr>\n",
       "    <tr>\n",
       "      <td>4</td>\n",
       "      <td>-122.25</td>\n",
       "      <td>37.85</td>\n",
       "      <td>52.0</td>\n",
       "      <td>1627.0</td>\n",
       "      <td>280.0</td>\n",
       "      <td>565.0</td>\n",
       "      <td>259.0</td>\n",
       "      <td>3.8462</td>\n",
       "      <td>342200.0</td>\n",
       "      <td>NEAR BAY</td>\n",
       "    </tr>\n",
       "  </tbody>\n",
       "</table>\n",
       "</div>"
      ],
      "text/plain": [
       "   longitude  latitude  housing_median_age  total_rooms  total_bedrooms  \\\n",
       "0    -122.23     37.88                41.0        880.0           129.0   \n",
       "1    -122.22     37.86                21.0       7099.0          1106.0   \n",
       "2    -122.24     37.85                52.0       1467.0           190.0   \n",
       "3    -122.25     37.85                52.0       1274.0           235.0   \n",
       "4    -122.25     37.85                52.0       1627.0           280.0   \n",
       "\n",
       "   population  households  median_income  median_house_value ocean_proximity  \n",
       "0       322.0       126.0         8.3252            452600.0        NEAR BAY  \n",
       "1      2401.0      1138.0         8.3014            358500.0        NEAR BAY  \n",
       "2       496.0       177.0         7.2574            352100.0        NEAR BAY  \n",
       "3       558.0       219.0         5.6431            341300.0        NEAR BAY  \n",
       "4       565.0       259.0         3.8462            342200.0        NEAR BAY  "
      ]
     },
     "execution_count": 5,
     "metadata": {},
     "output_type": "execute_result"
    }
   ],
   "source": [
    "path = r'C:\\Users\\kk\\Documents\\Python Projects\\California Housing Price\\handson-ml\\datasets\\housing\\housing.csv'\n",
    "df = load_the_data(path)\n",
    "df.head()"
   ]
  },
  {
   "cell_type": "code",
   "execution_count": 4,
   "metadata": {},
   "outputs": [
    {
     "data": {
      "text/plain": [
       "Index(['longitude', 'latitude', 'housing_median_age', 'total_rooms',\n",
       "       'total_bedrooms', 'population', 'households', 'median_income',\n",
       "       'median_house_value', 'ocean_proximity'],\n",
       "      dtype='object')"
      ]
     },
     "execution_count": 4,
     "metadata": {},
     "output_type": "execute_result"
    }
   ],
   "source": [
    "df.columns"
   ]
  },
  {
   "cell_type": "code",
   "execution_count": 5,
   "metadata": {},
   "outputs": [
    {
     "data": {
      "text/plain": [
       "10"
      ]
     },
     "execution_count": 5,
     "metadata": {},
     "output_type": "execute_result"
    }
   ],
   "source": [
    "len(df.columns)"
   ]
  },
  {
   "cell_type": "code",
   "execution_count": 6,
   "metadata": {},
   "outputs": [
    {
     "name": "stdout",
     "output_type": "stream",
     "text": [
      "<class 'pandas.core.frame.DataFrame'>\n",
      "RangeIndex: 20640 entries, 0 to 20639\n",
      "Data columns (total 10 columns):\n",
      "longitude             20640 non-null float64\n",
      "latitude              20640 non-null float64\n",
      "housing_median_age    20640 non-null float64\n",
      "total_rooms           20640 non-null float64\n",
      "total_bedrooms        20433 non-null float64\n",
      "population            20640 non-null float64\n",
      "households            20640 non-null float64\n",
      "median_income         20640 non-null float64\n",
      "median_house_value    20640 non-null float64\n",
      "ocean_proximity       20640 non-null object\n",
      "dtypes: float64(9), object(1)\n",
      "memory usage: 1.6+ MB\n"
     ]
    }
   ],
   "source": [
    "df.info()"
   ]
  },
  {
   "cell_type": "code",
   "execution_count": 7,
   "metadata": {},
   "outputs": [
    {
     "data": {
      "text/html": [
       "<div>\n",
       "<style scoped>\n",
       "    .dataframe tbody tr th:only-of-type {\n",
       "        vertical-align: middle;\n",
       "    }\n",
       "\n",
       "    .dataframe tbody tr th {\n",
       "        vertical-align: top;\n",
       "    }\n",
       "\n",
       "    .dataframe thead th {\n",
       "        text-align: right;\n",
       "    }\n",
       "</style>\n",
       "<table border=\"1\" class=\"dataframe\">\n",
       "  <thead>\n",
       "    <tr style=\"text-align: right;\">\n",
       "      <th></th>\n",
       "      <th>longitude</th>\n",
       "      <th>latitude</th>\n",
       "      <th>housing_median_age</th>\n",
       "      <th>total_rooms</th>\n",
       "      <th>total_bedrooms</th>\n",
       "      <th>population</th>\n",
       "      <th>households</th>\n",
       "      <th>median_income</th>\n",
       "      <th>median_house_value</th>\n",
       "    </tr>\n",
       "  </thead>\n",
       "  <tbody>\n",
       "    <tr>\n",
       "      <td>count</td>\n",
       "      <td>20640.000000</td>\n",
       "      <td>20640.000000</td>\n",
       "      <td>20640.000000</td>\n",
       "      <td>20640.000000</td>\n",
       "      <td>20433.000000</td>\n",
       "      <td>20640.000000</td>\n",
       "      <td>20640.000000</td>\n",
       "      <td>20640.000000</td>\n",
       "      <td>20640.000000</td>\n",
       "    </tr>\n",
       "    <tr>\n",
       "      <td>mean</td>\n",
       "      <td>-119.569704</td>\n",
       "      <td>35.631861</td>\n",
       "      <td>28.639486</td>\n",
       "      <td>2635.763081</td>\n",
       "      <td>537.870553</td>\n",
       "      <td>1425.476744</td>\n",
       "      <td>499.539680</td>\n",
       "      <td>3.870671</td>\n",
       "      <td>206855.816909</td>\n",
       "    </tr>\n",
       "    <tr>\n",
       "      <td>std</td>\n",
       "      <td>2.003532</td>\n",
       "      <td>2.135952</td>\n",
       "      <td>12.585558</td>\n",
       "      <td>2181.615252</td>\n",
       "      <td>421.385070</td>\n",
       "      <td>1132.462122</td>\n",
       "      <td>382.329753</td>\n",
       "      <td>1.899822</td>\n",
       "      <td>115395.615874</td>\n",
       "    </tr>\n",
       "    <tr>\n",
       "      <td>min</td>\n",
       "      <td>-124.350000</td>\n",
       "      <td>32.540000</td>\n",
       "      <td>1.000000</td>\n",
       "      <td>2.000000</td>\n",
       "      <td>1.000000</td>\n",
       "      <td>3.000000</td>\n",
       "      <td>1.000000</td>\n",
       "      <td>0.499900</td>\n",
       "      <td>14999.000000</td>\n",
       "    </tr>\n",
       "    <tr>\n",
       "      <td>25%</td>\n",
       "      <td>-121.800000</td>\n",
       "      <td>33.930000</td>\n",
       "      <td>18.000000</td>\n",
       "      <td>1447.750000</td>\n",
       "      <td>296.000000</td>\n",
       "      <td>787.000000</td>\n",
       "      <td>280.000000</td>\n",
       "      <td>2.563400</td>\n",
       "      <td>119600.000000</td>\n",
       "    </tr>\n",
       "    <tr>\n",
       "      <td>50%</td>\n",
       "      <td>-118.490000</td>\n",
       "      <td>34.260000</td>\n",
       "      <td>29.000000</td>\n",
       "      <td>2127.000000</td>\n",
       "      <td>435.000000</td>\n",
       "      <td>1166.000000</td>\n",
       "      <td>409.000000</td>\n",
       "      <td>3.534800</td>\n",
       "      <td>179700.000000</td>\n",
       "    </tr>\n",
       "    <tr>\n",
       "      <td>75%</td>\n",
       "      <td>-118.010000</td>\n",
       "      <td>37.710000</td>\n",
       "      <td>37.000000</td>\n",
       "      <td>3148.000000</td>\n",
       "      <td>647.000000</td>\n",
       "      <td>1725.000000</td>\n",
       "      <td>605.000000</td>\n",
       "      <td>4.743250</td>\n",
       "      <td>264725.000000</td>\n",
       "    </tr>\n",
       "    <tr>\n",
       "      <td>max</td>\n",
       "      <td>-114.310000</td>\n",
       "      <td>41.950000</td>\n",
       "      <td>52.000000</td>\n",
       "      <td>39320.000000</td>\n",
       "      <td>6445.000000</td>\n",
       "      <td>35682.000000</td>\n",
       "      <td>6082.000000</td>\n",
       "      <td>15.000100</td>\n",
       "      <td>500001.000000</td>\n",
       "    </tr>\n",
       "  </tbody>\n",
       "</table>\n",
       "</div>"
      ],
      "text/plain": [
       "          longitude      latitude  housing_median_age   total_rooms  \\\n",
       "count  20640.000000  20640.000000        20640.000000  20640.000000   \n",
       "mean    -119.569704     35.631861           28.639486   2635.763081   \n",
       "std        2.003532      2.135952           12.585558   2181.615252   \n",
       "min     -124.350000     32.540000            1.000000      2.000000   \n",
       "25%     -121.800000     33.930000           18.000000   1447.750000   \n",
       "50%     -118.490000     34.260000           29.000000   2127.000000   \n",
       "75%     -118.010000     37.710000           37.000000   3148.000000   \n",
       "max     -114.310000     41.950000           52.000000  39320.000000   \n",
       "\n",
       "       total_bedrooms    population    households  median_income  \\\n",
       "count    20433.000000  20640.000000  20640.000000   20640.000000   \n",
       "mean       537.870553   1425.476744    499.539680       3.870671   \n",
       "std        421.385070   1132.462122    382.329753       1.899822   \n",
       "min          1.000000      3.000000      1.000000       0.499900   \n",
       "25%        296.000000    787.000000    280.000000       2.563400   \n",
       "50%        435.000000   1166.000000    409.000000       3.534800   \n",
       "75%        647.000000   1725.000000    605.000000       4.743250   \n",
       "max       6445.000000  35682.000000   6082.000000      15.000100   \n",
       "\n",
       "       median_house_value  \n",
       "count        20640.000000  \n",
       "mean        206855.816909  \n",
       "std         115395.615874  \n",
       "min          14999.000000  \n",
       "25%         119600.000000  \n",
       "50%         179700.000000  \n",
       "75%         264725.000000  \n",
       "max         500001.000000  "
      ]
     },
     "execution_count": 7,
     "metadata": {},
     "output_type": "execute_result"
    }
   ],
   "source": [
    "df.describe()"
   ]
  },
  {
   "cell_type": "code",
   "execution_count": 8,
   "metadata": {},
   "outputs": [
    {
     "data": {
      "text/plain": [
       "array(['NEAR BAY', '<1H OCEAN', 'INLAND', 'NEAR OCEAN', 'ISLAND'],\n",
       "      dtype=object)"
      ]
     },
     "execution_count": 8,
     "metadata": {},
     "output_type": "execute_result"
    }
   ],
   "source": [
    "df.ocean_proximity.unique()"
   ]
  },
  {
   "cell_type": "code",
   "execution_count": 9,
   "metadata": {},
   "outputs": [
    {
     "data": {
      "text/plain": [
       "<1H OCEAN     9136\n",
       "INLAND        6551\n",
       "NEAR OCEAN    2658\n",
       "NEAR BAY      2290\n",
       "ISLAND           5\n",
       "Name: ocean_proximity, dtype: int64"
      ]
     },
     "execution_count": 9,
     "metadata": {},
     "output_type": "execute_result"
    }
   ],
   "source": [
    "df.ocean_proximity.value_counts()"
   ]
  },
  {
   "cell_type": "code",
   "execution_count": 10,
   "metadata": {},
   "outputs": [
    {
     "data": {
      "text/plain": [
       "array([[<matplotlib.axes._subplots.AxesSubplot object at 0x0000018DD5131BC8>,\n",
       "        <matplotlib.axes._subplots.AxesSubplot object at 0x0000018DD5026788>,\n",
       "        <matplotlib.axes._subplots.AxesSubplot object at 0x0000018DD5061588>],\n",
       "       [<matplotlib.axes._subplots.AxesSubplot object at 0x0000018DD509DE88>,\n",
       "        <matplotlib.axes._subplots.AxesSubplot object at 0x0000018DD50D1748>,\n",
       "        <matplotlib.axes._subplots.AxesSubplot object at 0x0000018DD510A848>],\n",
       "       [<matplotlib.axes._subplots.AxesSubplot object at 0x0000018DD53A0948>,\n",
       "        <matplotlib.axes._subplots.AxesSubplot object at 0x0000018DD53D7A88>,\n",
       "        <matplotlib.axes._subplots.AxesSubplot object at 0x0000018DD53E3688>]],\n",
       "      dtype=object)"
      ]
     },
     "execution_count": 10,
     "metadata": {},
     "output_type": "execute_result"
    },
    {
     "data": {
      "image/png": "[encoded data removed]",
      "text/plain": [
       "<Figure size 1440x1080 with 9 Axes>"
      ]
     },
     "metadata": {
      "needs_background": "light"
     },
     "output_type": "display_data"
    }
   ],
   "source": [
    "df.hist(bins=50, figsize = (20,15))"
   ]
  },
  {
   "cell_type": "code",
   "execution_count": 11,
   "metadata": {},
   "outputs": [
    {
     "data": {
      "text/plain": [
       "802"
      ]
     },
     "execution_count": 11,
     "metadata": {},
     "output_type": "execute_result"
    }
   ],
   "source": [
    "len(df[df.median_house_value.between(99000, 110000, inclusive=False)])"
   ]
  },
  {
   "cell_type": "markdown",
   "metadata": {},
   "source": [
    "### create a test set"
   ]
  },
  {
   "cell_type": "markdown",
   "metadata": {},
   "source": [
    "#### stratified shuffle split"
   ]
  },
  {
   "cell_type": "code",
   "execution_count": 6,
   "metadata": {},
   "outputs": [],
   "source": [
    "#train & test set which we will be use in the project\n",
    "df['median_income_cat'] = np.ceil(df.median_income/1.5)\n",
    "df['median_income_cat'] = df.median_income_cat.where((df.median_income_cat)<5,5)\n",
    "\n",
    "split = StratifiedShuffleSplit(n_splits=1,test_size=0.2,random_state=42)\n",
    "for train_index, test_index in split.split(df,df.median_income_cat):\n",
    "    strat_train_set= df.loc[train_index]\n",
    "    strat_test_set= df.loc[test_index]"
   ]
  },
  {
   "cell_type": "code",
   "execution_count": 9,
   "metadata": {},
   "outputs": [
    {
     "data": {
      "text/html": [
       "<div>\n",
       "<style scoped>\n",
       "    .dataframe tbody tr th:only-of-type {\n",
       "        vertical-align: middle;\n",
       "    }\n",
       "\n",
       "    .dataframe tbody tr th {\n",
       "        vertical-align: top;\n",
       "    }\n",
       "\n",
       "    .dataframe thead th {\n",
       "        text-align: right;\n",
       "    }\n",
       "</style>\n",
       "<table border=\"1\" class=\"dataframe\">\n",
       "  <thead>\n",
       "    <tr style=\"text-align: right;\">\n",
       "      <th></th>\n",
       "      <th>longitude</th>\n",
       "      <th>latitude</th>\n",
       "      <th>housing_median_age</th>\n",
       "      <th>total_rooms</th>\n",
       "      <th>total_bedrooms</th>\n",
       "      <th>population</th>\n",
       "      <th>households</th>\n",
       "      <th>median_income</th>\n",
       "      <th>median_house_value</th>\n",
       "      <th>ocean_proximity</th>\n",
       "      <th>median_income_cat</th>\n",
       "    </tr>\n",
       "  </thead>\n",
       "  <tbody>\n",
       "    <tr>\n",
       "      <td>5241</td>\n",
       "      <td>-118.39</td>\n",
       "      <td>34.12</td>\n",
       "      <td>29.0</td>\n",
       "      <td>6447.0</td>\n",
       "      <td>1012.0</td>\n",
       "      <td>2184.0</td>\n",
       "      <td>960.0</td>\n",
       "      <td>8.2816</td>\n",
       "      <td>500001.0</td>\n",
       "      <td>&lt;1H OCEAN</td>\n",
       "      <td>5.0</td>\n",
       "    </tr>\n",
       "    <tr>\n",
       "      <td>10970</td>\n",
       "      <td>-117.86</td>\n",
       "      <td>33.77</td>\n",
       "      <td>39.0</td>\n",
       "      <td>4159.0</td>\n",
       "      <td>655.0</td>\n",
       "      <td>1669.0</td>\n",
       "      <td>651.0</td>\n",
       "      <td>4.6111</td>\n",
       "      <td>240300.0</td>\n",
       "      <td>&lt;1H OCEAN</td>\n",
       "      <td>4.0</td>\n",
       "    </tr>\n",
       "    <tr>\n",
       "      <td>20351</td>\n",
       "      <td>-119.05</td>\n",
       "      <td>34.21</td>\n",
       "      <td>27.0</td>\n",
       "      <td>4357.0</td>\n",
       "      <td>926.0</td>\n",
       "      <td>2110.0</td>\n",
       "      <td>876.0</td>\n",
       "      <td>3.0119</td>\n",
       "      <td>218200.0</td>\n",
       "      <td>&lt;1H OCEAN</td>\n",
       "      <td>3.0</td>\n",
       "    </tr>\n",
       "    <tr>\n",
       "      <td>6568</td>\n",
       "      <td>-118.15</td>\n",
       "      <td>34.20</td>\n",
       "      <td>52.0</td>\n",
       "      <td>1786.0</td>\n",
       "      <td>306.0</td>\n",
       "      <td>1018.0</td>\n",
       "      <td>322.0</td>\n",
       "      <td>4.1518</td>\n",
       "      <td>182100.0</td>\n",
       "      <td>INLAND</td>\n",
       "      <td>3.0</td>\n",
       "    </tr>\n",
       "    <tr>\n",
       "      <td>13285</td>\n",
       "      <td>-117.68</td>\n",
       "      <td>34.07</td>\n",
       "      <td>32.0</td>\n",
       "      <td>1775.0</td>\n",
       "      <td>314.0</td>\n",
       "      <td>1067.0</td>\n",
       "      <td>302.0</td>\n",
       "      <td>4.0375</td>\n",
       "      <td>121300.0</td>\n",
       "      <td>INLAND</td>\n",
       "      <td>3.0</td>\n",
       "    </tr>\n",
       "    <tr>\n",
       "      <td>...</td>\n",
       "      <td>...</td>\n",
       "      <td>...</td>\n",
       "      <td>...</td>\n",
       "      <td>...</td>\n",
       "      <td>...</td>\n",
       "      <td>...</td>\n",
       "      <td>...</td>\n",
       "      <td>...</td>\n",
       "      <td>...</td>\n",
       "      <td>...</td>\n",
       "      <td>...</td>\n",
       "    </tr>\n",
       "    <tr>\n",
       "      <td>20519</td>\n",
       "      <td>-121.53</td>\n",
       "      <td>38.58</td>\n",
       "      <td>33.0</td>\n",
       "      <td>4988.0</td>\n",
       "      <td>1169.0</td>\n",
       "      <td>2414.0</td>\n",
       "      <td>1075.0</td>\n",
       "      <td>1.9728</td>\n",
       "      <td>76400.0</td>\n",
       "      <td>INLAND</td>\n",
       "      <td>2.0</td>\n",
       "    </tr>\n",
       "    <tr>\n",
       "      <td>17430</td>\n",
       "      <td>-120.44</td>\n",
       "      <td>34.65</td>\n",
       "      <td>30.0</td>\n",
       "      <td>2265.0</td>\n",
       "      <td>512.0</td>\n",
       "      <td>1402.0</td>\n",
       "      <td>471.0</td>\n",
       "      <td>1.9750</td>\n",
       "      <td>134000.0</td>\n",
       "      <td>NEAR OCEAN</td>\n",
       "      <td>2.0</td>\n",
       "    </tr>\n",
       "    <tr>\n",
       "      <td>4019</td>\n",
       "      <td>-118.49</td>\n",
       "      <td>34.18</td>\n",
       "      <td>31.0</td>\n",
       "      <td>3073.0</td>\n",
       "      <td>674.0</td>\n",
       "      <td>1486.0</td>\n",
       "      <td>684.0</td>\n",
       "      <td>4.8984</td>\n",
       "      <td>311700.0</td>\n",
       "      <td>&lt;1H OCEAN</td>\n",
       "      <td>4.0</td>\n",
       "    </tr>\n",
       "    <tr>\n",
       "      <td>12107</td>\n",
       "      <td>-117.32</td>\n",
       "      <td>33.99</td>\n",
       "      <td>27.0</td>\n",
       "      <td>5464.0</td>\n",
       "      <td>850.0</td>\n",
       "      <td>2400.0</td>\n",
       "      <td>836.0</td>\n",
       "      <td>4.7110</td>\n",
       "      <td>133500.0</td>\n",
       "      <td>INLAND</td>\n",
       "      <td>4.0</td>\n",
       "    </tr>\n",
       "    <tr>\n",
       "      <td>2398</td>\n",
       "      <td>-118.91</td>\n",
       "      <td>36.79</td>\n",
       "      <td>19.0</td>\n",
       "      <td>1616.0</td>\n",
       "      <td>324.0</td>\n",
       "      <td>187.0</td>\n",
       "      <td>80.0</td>\n",
       "      <td>3.7857</td>\n",
       "      <td>78600.0</td>\n",
       "      <td>INLAND</td>\n",
       "      <td>3.0</td>\n",
       "    </tr>\n",
       "  </tbody>\n",
       "</table>\n",
       "<p>4128 rows × 11 columns</p>\n",
       "</div>"
      ],
      "text/plain": [
       "       longitude  latitude  housing_median_age  total_rooms  total_bedrooms  \\\n",
       "5241     -118.39     34.12                29.0       6447.0          1012.0   \n",
       "10970    -117.86     33.77                39.0       4159.0           655.0   \n",
       "20351    -119.05     34.21                27.0       4357.0           926.0   \n",
       "6568     -118.15     34.20                52.0       1786.0           306.0   \n",
       "13285    -117.68     34.07                32.0       1775.0           314.0   \n",
       "...          ...       ...                 ...          ...             ...   \n",
       "20519    -121.53     38.58                33.0       4988.0          1169.0   \n",
       "17430    -120.44     34.65                30.0       2265.0           512.0   \n",
       "4019     -118.49     34.18                31.0       3073.0           674.0   \n",
       "12107    -117.32     33.99                27.0       5464.0           850.0   \n",
       "2398     -118.91     36.79                19.0       1616.0           324.0   \n",
       "\n",
       "       population  households  median_income  median_house_value  \\\n",
       "5241       2184.0       960.0         8.2816            500001.0   \n",
       "10970      1669.0       651.0         4.6111            240300.0   \n",
       "20351      2110.0       876.0         3.0119            218200.0   \n",
       "6568       1018.0       322.0         4.1518            182100.0   \n",
       "13285      1067.0       302.0         4.0375            121300.0   \n",
       "...           ...         ...            ...                 ...   \n",
       "20519      2414.0      1075.0         1.9728             76400.0   \n",
       "17430      1402.0       471.0         1.9750            134000.0   \n",
       "4019       1486.0       684.0         4.8984            311700.0   \n",
       "12107      2400.0       836.0         4.7110            133500.0   \n",
       "2398        187.0        80.0         3.7857             78600.0   \n",
       "\n",
       "      ocean_proximity  median_income_cat  \n",
       "5241        <1H OCEAN                5.0  \n",
       "10970       <1H OCEAN                4.0  \n",
       "20351       <1H OCEAN                3.0  \n",
       "6568           INLAND                3.0  \n",
       "13285          INLAND                3.0  \n",
       "...               ...                ...  \n",
       "20519          INLAND                2.0  \n",
       "17430      NEAR OCEAN                2.0  \n",
       "4019        <1H OCEAN                4.0  \n",
       "12107          INLAND                4.0  \n",
       "2398           INLAND                3.0  \n",
       "\n",
       "[4128 rows x 11 columns]"
      ]
     },
     "execution_count": 9,
     "metadata": {},
     "output_type": "execute_result"
    }
   ],
   "source": [
    "strat_test_set"
   ]
  },
  {
   "cell_type": "raw",
   "metadata": {},
   "source": []
  },
  {
   "cell_type": "markdown",
   "metadata": {},
   "source": [
    "### Discover and Visualize"
   ]
  },
  {
   "cell_type": "code",
   "execution_count": 13,
   "metadata": {},
   "outputs": [
    {
     "data": {
      "text/plain": [
       "Index(['longitude', 'latitude', 'housing_median_age', 'total_rooms',\n",
       "       'total_bedrooms', 'population', 'households', 'median_income',\n",
       "       'median_house_value', 'ocean_proximity', 'median_income_cat'],\n",
       "      dtype='object')"
      ]
     },
     "execution_count": 13,
     "metadata": {},
     "output_type": "execute_result"
    }
   ],
   "source": [
    "housing = strat_train_set.copy()\n",
    "housing.columns"
   ]
  },
  {
   "cell_type": "markdown",
   "metadata": {},
   "source": [
    "#s- shows popultion and c-shows a median house value\n",
    "housing.plot(kind = 'scatter',x='longitude',y='latitude',alpha=0.1,s=housing['population']/100,label='population',c='median_house_value',cmap=plt.get_cmap('jet'),figsize=(10,7))"
   ]
  },
  {
   "cell_type": "code",
   "execution_count": 14,
   "metadata": {},
   "outputs": [
    {
     "data": {
      "text/plain": [
       "median_house_value    1.000000\n",
       "median_income         0.687160\n",
       "median_income_cat     0.642274\n",
       "total_rooms           0.135097\n",
       "housing_median_age    0.114110\n",
       "households            0.064506\n",
       "total_bedrooms        0.047689\n",
       "population           -0.026920\n",
       "longitude            -0.047432\n",
       "latitude             -0.142724\n",
       "Name: median_house_value, dtype: float64"
      ]
     },
     "execution_count": 14,
     "metadata": {},
     "output_type": "execute_result"
    }
   ],
   "source": [
    "corr_matrix = housing.corr()\n",
    "corr_matrix['median_house_value'].sort_values(ascending=False)"
   ]
  },
  {
   "cell_type": "code",
   "execution_count": 16,
   "metadata": {},
   "outputs": [
    {
     "data": {
      "text/plain": [
       "array([[<matplotlib.axes._subplots.AxesSubplot object at 0x0000018DD68BE748>,\n",
       "        <matplotlib.axes._subplots.AxesSubplot object at 0x0000018DD691DA08>,\n",
       "        <matplotlib.axes._subplots.AxesSubplot object at 0x0000018DD7919108>,\n",
       "        <matplotlib.axes._subplots.AxesSubplot object at 0x0000018DD7952B08>],\n",
       "       [<matplotlib.axes._subplots.AxesSubplot object at 0x0000018DD798C508>,\n",
       "        <matplotlib.axes._subplots.AxesSubplot object at 0x0000018DD79C1EC8>,\n",
       "        <matplotlib.axes._subplots.AxesSubplot object at 0x0000018DD68E8C48>,\n",
       "        <matplotlib.axes._subplots.AxesSubplot object at 0x0000018DD7A1AD48>],\n",
       "       [<matplotlib.axes._subplots.AxesSubplot object at 0x0000018DD7A23948>,\n",
       "        <matplotlib.axes._subplots.AxesSubplot object at 0x0000018DD7A5CB08>,\n",
       "        <matplotlib.axes._subplots.AxesSubplot object at 0x0000018DD7AC50C8>,\n",
       "        <matplotlib.axes._subplots.AxesSubplot object at 0x0000018DD7AFF188>],\n",
       "       [<matplotlib.axes._subplots.AxesSubplot object at 0x0000018DD7B362C8>,\n",
       "        <matplotlib.axes._subplots.AxesSubplot object at 0x0000018DD7B703C8>,\n",
       "        <matplotlib.axes._subplots.AxesSubplot object at 0x0000018DD7BA94C8>,\n",
       "        <matplotlib.axes._subplots.AxesSubplot object at 0x0000018DD7BE2608>]],\n",
       "      dtype=object)"
      ]
     },
     "execution_count": 16,
     "metadata": {},
     "output_type": "execute_result"
    },
    {
     "data": {
      "image/png": "[encoded data removed]",
      "text/plain": [
       "<Figure size 432x288 with 16 Axes>"
      ]
     },
     "metadata": {
      "needs_background": "light"
     },
     "output_type": "display_data"
    }
   ],
   "source": [
    "from pandas.plotting import scatter_matrix\n",
    "att = ['median_house_value','median_income','total_rooms','housing_median_age']\n",
    "scatter_matrix(strat_train_set[att])"
   ]
  },
  {
   "cell_type": "code",
   "execution_count": 17,
   "metadata": {},
   "outputs": [
    {
     "data": {
      "text/plain": [
       "<matplotlib.axes._subplots.AxesSubplot at 0x18dd7d88808>"
      ]
     },
     "execution_count": 17,
     "metadata": {},
     "output_type": "execute_result"
    },
    {
     "data": {
      "image/png": "[encoded data removed]",
      "text/plain": [
       "<Figure size 432x288 with 1 Axes>"
      ]
     },
     "metadata": {
      "needs_background": "light"
     },
     "output_type": "display_data"
    }
   ],
   "source": [
    "housing.plot(kind='scatter',x='median_house_value',y='median_income')"
   ]
  },
  {
   "cell_type": "code",
   "execution_count": 18,
   "metadata": {},
   "outputs": [
    {
     "data": {
      "text/html": [
       "<div>\n",
       "<style scoped>\n",
       "    .dataframe tbody tr th:only-of-type {\n",
       "        vertical-align: middle;\n",
       "    }\n",
       "\n",
       "    .dataframe tbody tr th {\n",
       "        vertical-align: top;\n",
       "    }\n",
       "\n",
       "    .dataframe thead th {\n",
       "        text-align: right;\n",
       "    }\n",
       "</style>\n",
       "<table border=\"1\" class=\"dataframe\">\n",
       "  <thead>\n",
       "    <tr style=\"text-align: right;\">\n",
       "      <th></th>\n",
       "      <th>longitude</th>\n",
       "      <th>latitude</th>\n",
       "      <th>housing_median_age</th>\n",
       "      <th>total_rooms</th>\n",
       "      <th>total_bedrooms</th>\n",
       "      <th>population</th>\n",
       "      <th>households</th>\n",
       "      <th>median_income</th>\n",
       "      <th>median_house_value</th>\n",
       "      <th>median_income_cat</th>\n",
       "    </tr>\n",
       "  </thead>\n",
       "  <tbody>\n",
       "    <tr>\n",
       "      <td>longitude</td>\n",
       "      <td>1.000000</td>\n",
       "      <td>-0.924478</td>\n",
       "      <td>-0.105848</td>\n",
       "      <td>0.048871</td>\n",
       "      <td>0.076598</td>\n",
       "      <td>0.108030</td>\n",
       "      <td>0.063070</td>\n",
       "      <td>-0.019583</td>\n",
       "      <td>-0.047432</td>\n",
       "      <td>-0.016243</td>\n",
       "    </tr>\n",
       "    <tr>\n",
       "      <td>latitude</td>\n",
       "      <td>-0.924478</td>\n",
       "      <td>1.000000</td>\n",
       "      <td>0.005766</td>\n",
       "      <td>-0.039184</td>\n",
       "      <td>-0.072419</td>\n",
       "      <td>-0.115222</td>\n",
       "      <td>-0.077647</td>\n",
       "      <td>-0.075205</td>\n",
       "      <td>-0.142724</td>\n",
       "      <td>-0.078848</td>\n",
       "    </tr>\n",
       "    <tr>\n",
       "      <td>housing_median_age</td>\n",
       "      <td>-0.105848</td>\n",
       "      <td>0.005766</td>\n",
       "      <td>1.000000</td>\n",
       "      <td>-0.364509</td>\n",
       "      <td>-0.325047</td>\n",
       "      <td>-0.298710</td>\n",
       "      <td>-0.306428</td>\n",
       "      <td>-0.111360</td>\n",
       "      <td>0.114110</td>\n",
       "      <td>-0.139385</td>\n",
       "    </tr>\n",
       "    <tr>\n",
       "      <td>total_rooms</td>\n",
       "      <td>0.048871</td>\n",
       "      <td>-0.039184</td>\n",
       "      <td>-0.364509</td>\n",
       "      <td>1.000000</td>\n",
       "      <td>0.929379</td>\n",
       "      <td>0.855109</td>\n",
       "      <td>0.918392</td>\n",
       "      <td>0.200087</td>\n",
       "      <td>0.135097</td>\n",
       "      <td>0.221690</td>\n",
       "    </tr>\n",
       "    <tr>\n",
       "      <td>total_bedrooms</td>\n",
       "      <td>0.076598</td>\n",
       "      <td>-0.072419</td>\n",
       "      <td>-0.325047</td>\n",
       "      <td>0.929379</td>\n",
       "      <td>1.000000</td>\n",
       "      <td>0.876320</td>\n",
       "      <td>0.980170</td>\n",
       "      <td>-0.009740</td>\n",
       "      <td>0.047689</td>\n",
       "      <td>0.012502</td>\n",
       "    </tr>\n",
       "    <tr>\n",
       "      <td>population</td>\n",
       "      <td>0.108030</td>\n",
       "      <td>-0.115222</td>\n",
       "      <td>-0.298710</td>\n",
       "      <td>0.855109</td>\n",
       "      <td>0.876320</td>\n",
       "      <td>1.000000</td>\n",
       "      <td>0.904637</td>\n",
       "      <td>0.002380</td>\n",
       "      <td>-0.026920</td>\n",
       "      <td>0.022848</td>\n",
       "    </tr>\n",
       "    <tr>\n",
       "      <td>households</td>\n",
       "      <td>0.063070</td>\n",
       "      <td>-0.077647</td>\n",
       "      <td>-0.306428</td>\n",
       "      <td>0.918392</td>\n",
       "      <td>0.980170</td>\n",
       "      <td>0.904637</td>\n",
       "      <td>1.000000</td>\n",
       "      <td>0.010781</td>\n",
       "      <td>0.064506</td>\n",
       "      <td>0.034995</td>\n",
       "    </tr>\n",
       "    <tr>\n",
       "      <td>median_income</td>\n",
       "      <td>-0.019583</td>\n",
       "      <td>-0.075205</td>\n",
       "      <td>-0.111360</td>\n",
       "      <td>0.200087</td>\n",
       "      <td>-0.009740</td>\n",
       "      <td>0.002380</td>\n",
       "      <td>0.010781</td>\n",
       "      <td>1.000000</td>\n",
       "      <td>0.687160</td>\n",
       "      <td>0.902156</td>\n",
       "    </tr>\n",
       "    <tr>\n",
       "      <td>median_house_value</td>\n",
       "      <td>-0.047432</td>\n",
       "      <td>-0.142724</td>\n",
       "      <td>0.114110</td>\n",
       "      <td>0.135097</td>\n",
       "      <td>0.047689</td>\n",
       "      <td>-0.026920</td>\n",
       "      <td>0.064506</td>\n",
       "      <td>0.687160</td>\n",
       "      <td>1.000000</td>\n",
       "      <td>0.642274</td>\n",
       "    </tr>\n",
       "    <tr>\n",
       "      <td>median_income_cat</td>\n",
       "      <td>-0.016243</td>\n",
       "      <td>-0.078848</td>\n",
       "      <td>-0.139385</td>\n",
       "      <td>0.221690</td>\n",
       "      <td>0.012502</td>\n",
       "      <td>0.022848</td>\n",
       "      <td>0.034995</td>\n",
       "      <td>0.902156</td>\n",
       "      <td>0.642274</td>\n",
       "      <td>1.000000</td>\n",
       "    </tr>\n",
       "  </tbody>\n",
       "</table>\n",
       "</div>"
      ],
      "text/plain": [
       "                    longitude  latitude  housing_median_age  total_rooms  \\\n",
       "longitude            1.000000 -0.924478           -0.105848     0.048871   \n",
       "latitude            -0.924478  1.000000            0.005766    -0.039184   \n",
       "housing_median_age  -0.105848  0.005766            1.000000    -0.364509   \n",
       "total_rooms          0.048871 -0.039184           -0.364509     1.000000   \n",
       "total_bedrooms       0.076598 -0.072419           -0.325047     0.929379   \n",
       "population           0.108030 -0.115222           -0.298710     0.855109   \n",
       "households           0.063070 -0.077647           -0.306428     0.918392   \n",
       "median_income       -0.019583 -0.075205           -0.111360     0.200087   \n",
       "median_house_value  -0.047432 -0.142724            0.114110     0.135097   \n",
       "median_income_cat   -0.016243 -0.078848           -0.139385     0.221690   \n",
       "\n",
       "                    total_bedrooms  population  households  median_income  \\\n",
       "longitude                 0.076598    0.108030    0.063070      -0.019583   \n",
       "latitude                 -0.072419   -0.115222   -0.077647      -0.075205   \n",
       "housing_median_age       -0.325047   -0.298710   -0.306428      -0.111360   \n",
       "total_rooms               0.929379    0.855109    0.918392       0.200087   \n",
       "total_bedrooms            1.000000    0.876320    0.980170      -0.009740   \n",
       "population                0.876320    1.000000    0.904637       0.002380   \n",
       "households                0.980170    0.904637    1.000000       0.010781   \n",
       "median_income            -0.009740    0.002380    0.010781       1.000000   \n",
       "median_house_value        0.047689   -0.026920    0.064506       0.687160   \n",
       "median_income_cat         0.012502    0.022848    0.034995       0.902156   \n",
       "\n",
       "                    median_house_value  median_income_cat  \n",
       "longitude                    -0.047432          -0.016243  \n",
       "latitude                     -0.142724          -0.078848  \n",
       "housing_median_age            0.114110          -0.139385  \n",
       "total_rooms                   0.135097           0.221690  \n",
       "total_bedrooms                0.047689           0.012502  \n",
       "population                   -0.026920           0.022848  \n",
       "households                    0.064506           0.034995  \n",
       "median_income                 0.687160           0.902156  \n",
       "median_house_value            1.000000           0.642274  \n",
       "median_income_cat             0.642274           1.000000  "
      ]
     },
     "execution_count": 18,
     "metadata": {},
     "output_type": "execute_result"
    }
   ],
   "source": [
    "housing.corr()"
   ]
  },
  {
   "cell_type": "markdown",
   "metadata": {},
   "source": [
    "### train set and labels"
   ]
  },
  {
   "cell_type": "code",
   "execution_count": 19,
   "metadata": {},
   "outputs": [],
   "source": [
    "housing = strat_train_set.drop('median_house_value',axis=1)\n",
    "housing_label = strat_train_set['median_house_value'].copy()"
   ]
  },
  {
   "cell_type": "markdown",
   "metadata": {},
   "source": [
    "## Class & Pipelines"
   ]
  },
  {
   "cell_type": "code",
   "execution_count": 21,
   "metadata": {},
   "outputs": [],
   "source": [
    "housing_num = housing.select_dtypes('float64')\n",
    "housing_cat = housing['ocean_proximity']"
   ]
  },
  {
   "cell_type": "code",
   "execution_count": 22,
   "metadata": {},
   "outputs": [],
   "source": [
    "rooms_ix,bedrooms_ix,population_ix, household_ix = 3,4,5,6\n",
    "\n",
    "class CombinedAttributesAdder(BaseEstimator,TransformerMixin):\n",
    "    def __init__(self, add_bedrooms_per_room=True):\n",
    "        self.add_bedrooms_per_room = add_bedrooms_per_room\n",
    "    def fit(self,X, y=None):\n",
    "        return self\n",
    "    def transform(self,X, y=None):\n",
    "        rooms_per_household = X[:,rooms_ix]/X[:,household_ix]\n",
    "        if self.add_bedrooms_per_room:\n",
    "            bedrooms_per_room = X[:,bedrooms_ix]/X[:,rooms_ix]\n",
    "            return np.c_[X,rooms_per_household,bedrooms_per_room]\n",
    "        else:\n",
    "            return np.c_[X,rooms_per_household]\n",
    "        \n",
    "            \n",
    "class RemoveNaN(TransformerMixin):\n",
    "    def __init__(self,filling_strategy = 'median'):\n",
    "        self.filling_strategy = filling_strategy\n",
    "    def fit(self,X,y=None):\n",
    "        return self\n",
    "    def transform(self,X,y=None):\n",
    "        if self.filling_strategy == 'median':\n",
    "            for col in X.select_dtypes('float64'):\n",
    "                col_median = X[col].median()\n",
    "                X[col].fillna(col_median)\n",
    "            return X\n",
    "                \n",
    "        else:\n",
    "            for col in X.select_dtypes('float64'):\n",
    "                col_mean = X[col].mean()\n",
    "                X[col].fillna(col_mean)\n",
    "            return X \n",
    "        \n",
    "\n",
    "class ChangeObjectToInt:\n",
    "    def __init__(self):\n",
    "        pass\n",
    "    def fit(self,X,y=None):\n",
    "        return self\n",
    "    def transform(self,X,y=None):\n",
    "        for col in X.select_dtypes('object'):\n",
    "            cat_to_int = pd.get_dummies(X[col],prefix = col)\n",
    "            X = X.join(cat_to_int)\n",
    "            X = X.drop(col,axis=1)\n",
    "        return X\n",
    "    \n",
    "class DataFrameSelector(BaseEstimator,TransformerMixin):\n",
    "    def __init__(self,attributes_name):\n",
    "        self.attributes_name = attributes_name\n",
    "        \n",
    "    def fit(self,X,y=None):\n",
    "        return self\n",
    "    def transform(self,X,y=None):\n",
    "        \n",
    "        return X[self.attributes_name].values"
   ]
  },
  {
   "cell_type": "markdown",
   "metadata": {},
   "source": [
    "#### Transformation Pipelines\n"
   ]
  },
  {
   "cell_type": "code",
   "execution_count": 23,
   "metadata": {},
   "outputs": [
    {
     "name": "stderr",
     "output_type": "stream",
     "text": [
      "C:\\ProgramData\\Anaconda3\\lib\\site-packages\\sklearn\\utils\\deprecation.py:66: DeprecationWarning: Class Imputer is deprecated; Imputer was deprecated in version 0.20 and will be removed in 0.22. Import impute.SimpleImputer from sklearn instead.\n",
      "  warnings.warn(msg, category=DeprecationWarning)\n"
     ]
    },
    {
     "data": {
      "text/plain": [
       "<16512x8 sparse matrix of type '<class 'numpy.float64'>'\n",
       "\twith 132096 stored elements in Compressed Sparse Row format>"
      ]
     },
     "execution_count": 23,
     "metadata": {},
     "output_type": "execute_result"
    }
   ],
   "source": [
    "from sklearn.ensemble import RandomForestClassifier\n",
    "clf = RandomForestClassifier(n_estimators=2, random_state=0, n_jobs=-1)\n",
    "sfm = SelectFromModel(clf, threshold=0.1)\n",
    "\n",
    "num_attr = list(housing_num)\n",
    "cat_attr = ['ocean_proximity']\n",
    "num_pipeline = Pipeline([('selector',DataFrameSelector(num_attr)),\n",
    "                         ('imputer',Imputer(strategy='median')),\n",
    "                         #('attribs_adder',CombinedAttributesAdder()),\n",
    "                         ('std_scaler',StandardScaler())\n",
    "                        ])\n",
    "\n",
    "cat_pipeline = Pipeline([('selector',DataFrameSelector(cat_attr)),\n",
    "                         ('onehot',OneHotEncoder())\n",
    "                        ])\n",
    "## to connect two pipelines in one\n",
    "full_pipeline = FeatureUnion(transformer_list=[('num_pipeline',num_pipeline),('cat_pipeline',cat_pipeline)])\n",
    "\n",
    "\n",
    "fpipe = Pipeline([\n",
    "    ('full', full_pipeline),\n",
    "    ('selector', sfm)\n",
    "                 \n",
    "                 ])\n",
    "\n",
    "\n",
    "\n",
    "\n",
    "housing_prepared = fpipe.fit_transform(housing, housing_label)\n",
    "\n",
    "housing_prepared"
   ]
  },
  {
   "cell_type": "markdown",
   "metadata": {},
   "source": [
    "### Select and Train Model"
   ]
  },
  {
   "cell_type": "code",
   "execution_count": 11,
   "metadata": {},
   "outputs": [
    {
     "name": "stderr",
     "output_type": "stream",
     "text": [
      "C:\\ProgramData\\Anaconda3\\lib\\site-packages\\sklearn\\model_selection\\_split.py:1978: FutureWarning: The default value of cv will change from 3 to 5 in version 0.22. Specify it explicitly to silence this warning.\n",
      "  warnings.warn(CV_WARNING, FutureWarning)\n",
      "C:\\ProgramData\\Anaconda3\\lib\\site-packages\\sklearn\\model_selection\\_split.py:1978: FutureWarning: The default value of cv will change from 3 to 5 in version 0.22. Specify it explicitly to silence this warning.\n",
      "  warnings.warn(CV_WARNING, FutureWarning)\n",
      "C:\\ProgramData\\Anaconda3\\lib\\site-packages\\sklearn\\model_selection\\_split.py:1978: FutureWarning: The default value of cv will change from 3 to 5 in version 0.22. Specify it explicitly to silence this warning.\n",
      "  warnings.warn(CV_WARNING, FutureWarning)\n",
      "C:\\ProgramData\\Anaconda3\\lib\\site-packages\\sklearn\\model_selection\\_search.py:266: UserWarning: The total space of parameters 2 is smaller than n_iter=10. Running 2 iterations. For exhaustive searches, use GridSearchCV.\n",
      "  % (grid_size, self.n_iter, grid_size), UserWarning)\n",
      "C:\\ProgramData\\Anaconda3\\lib\\site-packages\\sklearn\\model_selection\\_split.py:1978: FutureWarning: The default value of cv will change from 3 to 5 in version 0.22. Specify it explicitly to silence this warning.\n",
      "  warnings.warn(CV_WARNING, FutureWarning)\n",
      "C:\\ProgramData\\Anaconda3\\lib\\site-packages\\sklearn\\model_selection\\_split.py:1978: FutureWarning: The default value of cv will change from 3 to 5 in version 0.22. Specify it explicitly to silence this warning.\n",
      "  warnings.warn(CV_WARNING, FutureWarning)\n",
      "C:\\ProgramData\\Anaconda3\\lib\\site-packages\\sklearn\\model_selection\\_split.py:1978: FutureWarning: The default value of cv will change from 3 to 5 in version 0.22. Specify it explicitly to silence this warning.\n",
      "  warnings.warn(CV_WARNING, FutureWarning)\n",
      "C:\\ProgramData\\Anaconda3\\lib\\site-packages\\sklearn\\ensemble\\forest.py:245: FutureWarning: The default value of n_estimators will change from 10 in version 0.20 to 100 in 0.22.\n",
      "  \"10 in version 0.20 to 100 in 0.22.\", FutureWarning)\n",
      "C:\\ProgramData\\Anaconda3\\lib\\site-packages\\sklearn\\model_selection\\_split.py:1978: FutureWarning: The default value of cv will change from 3 to 5 in version 0.22. Specify it explicitly to silence this warning.\n",
      "  warnings.warn(CV_WARNING, FutureWarning)\n",
      "C:\\ProgramData\\Anaconda3\\lib\\site-packages\\sklearn\\model_selection\\_split.py:1978: FutureWarning: The default value of cv will change from 3 to 5 in version 0.22. Specify it explicitly to silence this warning.\n",
      "  warnings.warn(CV_WARNING, FutureWarning)\n",
      "C:\\ProgramData\\Anaconda3\\lib\\site-packages\\sklearn\\model_selection\\_split.py:1978: FutureWarning: The default value of cv will change from 3 to 5 in version 0.22. Specify it explicitly to silence this warning.\n",
      "  warnings.warn(CV_WARNING, FutureWarning)\n",
      "C:\\ProgramData\\Anaconda3\\lib\\site-packages\\sklearn\\model_selection\\_split.py:1978: FutureWarning: The default value of cv will change from 3 to 5 in version 0.22. Specify it explicitly to silence this warning.\n",
      "  warnings.warn(CV_WARNING, FutureWarning)\n",
      "C:\\ProgramData\\Anaconda3\\lib\\site-packages\\sklearn\\svm\\base.py:193: FutureWarning: The default value of gamma will change from 'auto' to 'scale' in version 0.22 to account better for unscaled features. Set gamma explicitly to 'auto' or 'scale' to avoid this warning.\n",
      "  \"avoid this warning.\", FutureWarning)\n",
      "C:\\ProgramData\\Anaconda3\\lib\\site-packages\\sklearn\\svm\\base.py:193: FutureWarning: The default value of gamma will change from 'auto' to 'scale' in version 0.22 to account better for unscaled features. Set gamma explicitly to 'auto' or 'scale' to avoid this warning.\n",
      "  \"avoid this warning.\", FutureWarning)\n",
      "C:\\ProgramData\\Anaconda3\\lib\\site-packages\\sklearn\\svm\\base.py:193: FutureWarning: The default value of gamma will change from 'auto' to 'scale' in version 0.22 to account better for unscaled features. Set gamma explicitly to 'auto' or 'scale' to avoid this warning.\n",
      "  \"avoid this warning.\", FutureWarning)\n",
      "C:\\ProgramData\\Anaconda3\\lib\\site-packages\\sklearn\\model_selection\\_split.py:1978: FutureWarning: The default value of cv will change from 3 to 5 in version 0.22. Specify it explicitly to silence this warning.\n",
      "  warnings.warn(CV_WARNING, FutureWarning)\n",
      "C:\\ProgramData\\Anaconda3\\lib\\site-packages\\sklearn\\svm\\base.py:193: FutureWarning: The default value of gamma will change from 'auto' to 'scale' in version 0.22 to account better for unscaled features. Set gamma explicitly to 'auto' or 'scale' to avoid this warning.\n",
      "  \"avoid this warning.\", FutureWarning)\n",
      "C:\\ProgramData\\Anaconda3\\lib\\site-packages\\sklearn\\svm\\base.py:193: FutureWarning: The default value of gamma will change from 'auto' to 'scale' in version 0.22 to account better for unscaled features. Set gamma explicitly to 'auto' or 'scale' to avoid this warning.\n",
      "  \"avoid this warning.\", FutureWarning)\n",
      "C:\\ProgramData\\Anaconda3\\lib\\site-packages\\sklearn\\svm\\base.py:193: FutureWarning: The default value of gamma will change from 'auto' to 'scale' in version 0.22 to account better for unscaled features. Set gamma explicitly to 'auto' or 'scale' to avoid this warning.\n",
      "  \"avoid this warning.\", FutureWarning)\n",
      "C:\\ProgramData\\Anaconda3\\lib\\site-packages\\sklearn\\svm\\base.py:193: FutureWarning: The default value of gamma will change from 'auto' to 'scale' in version 0.22 to account better for unscaled features. Set gamma explicitly to 'auto' or 'scale' to avoid this warning.\n",
      "  \"avoid this warning.\", FutureWarning)\n",
      "C:\\ProgramData\\Anaconda3\\lib\\site-packages\\sklearn\\svm\\base.py:193: FutureWarning: The default value of gamma will change from 'auto' to 'scale' in version 0.22 to account better for unscaled features. Set gamma explicitly to 'auto' or 'scale' to avoid this warning.\n",
      "  \"avoid this warning.\", FutureWarning)\n",
      "C:\\ProgramData\\Anaconda3\\lib\\site-packages\\sklearn\\svm\\base.py:193: FutureWarning: The default value of gamma will change from 'auto' to 'scale' in version 0.22 to account better for unscaled features. Set gamma explicitly to 'auto' or 'scale' to avoid this warning.\n",
      "  \"avoid this warning.\", FutureWarning)\n",
      "C:\\ProgramData\\Anaconda3\\lib\\site-packages\\sklearn\\svm\\base.py:193: FutureWarning: The default value of gamma will change from 'auto' to 'scale' in version 0.22 to account better for unscaled features. Set gamma explicitly to 'auto' or 'scale' to avoid this warning.\n",
      "  \"avoid this warning.\", FutureWarning)\n",
      "C:\\ProgramData\\Anaconda3\\lib\\site-packages\\sklearn\\svm\\base.py:193: FutureWarning: The default value of gamma will change from 'auto' to 'scale' in version 0.22 to account better for unscaled features. Set gamma explicitly to 'auto' or 'scale' to avoid this warning.\n",
      "  \"avoid this warning.\", FutureWarning)\n",
      "C:\\ProgramData\\Anaconda3\\lib\\site-packages\\sklearn\\svm\\base.py:193: FutureWarning: The default value of gamma will change from 'auto' to 'scale' in version 0.22 to account better for unscaled features. Set gamma explicitly to 'auto' or 'scale' to avoid this warning.\n",
      "  \"avoid this warning.\", FutureWarning)\n",
      "C:\\ProgramData\\Anaconda3\\lib\\site-packages\\sklearn\\svm\\base.py:193: FutureWarning: The default value of gamma will change from 'auto' to 'scale' in version 0.22 to account better for unscaled features. Set gamma explicitly to 'auto' or 'scale' to avoid this warning.\n",
      "  \"avoid this warning.\", FutureWarning)\n",
      "C:\\ProgramData\\Anaconda3\\lib\\site-packages\\sklearn\\svm\\base.py:193: FutureWarning: The default value of gamma will change from 'auto' to 'scale' in version 0.22 to account better for unscaled features. Set gamma explicitly to 'auto' or 'scale' to avoid this warning.\n",
      "  \"avoid this warning.\", FutureWarning)\n",
      "C:\\ProgramData\\Anaconda3\\lib\\site-packages\\sklearn\\svm\\base.py:193: FutureWarning: The default value of gamma will change from 'auto' to 'scale' in version 0.22 to account better for unscaled features. Set gamma explicitly to 'auto' or 'scale' to avoid this warning.\n",
      "  \"avoid this warning.\", FutureWarning)\n",
      "C:\\ProgramData\\Anaconda3\\lib\\site-packages\\sklearn\\model_selection\\_split.py:1978: FutureWarning: The default value of cv will change from 3 to 5 in version 0.22. Specify it explicitly to silence this warning.\n",
      "  warnings.warn(CV_WARNING, FutureWarning)\n"
     ]
    },
    {
     "data": {
      "text/html": [
       "<div>\n",
       "<style scoped>\n",
       "    .dataframe tbody tr th:only-of-type {\n",
       "        vertical-align: middle;\n",
       "    }\n",
       "\n",
       "    .dataframe tbody tr th {\n",
       "        vertical-align: top;\n",
       "    }\n",
       "\n",
       "    .dataframe thead th {\n",
       "        text-align: right;\n",
       "    }\n",
       "</style>\n",
       "<table border=\"1\" class=\"dataframe\">\n",
       "  <thead>\n",
       "    <tr style=\"text-align: right;\">\n",
       "      <th></th>\n",
       "      <th>model_name</th>\n",
       "      <th>val_rmse:</th>\n",
       "      <th>train_rmse</th>\n",
       "      <th>rmse_grid</th>\n",
       "      <th>rmse_randomized</th>\n",
       "    </tr>\n",
       "  </thead>\n",
       "  <tbody>\n",
       "    <tr>\n",
       "      <td>0</td>\n",
       "      <td>LinearRegression</td>\n",
       "      <td>70317.697529</td>\n",
       "      <td>69958.399403</td>\n",
       "      <td>70317.812617</td>\n",
       "      <td>70317.812617</td>\n",
       "    </tr>\n",
       "    <tr>\n",
       "      <td>1</td>\n",
       "      <td>DecisionTreeRegressor</td>\n",
       "      <td>71901.260736</td>\n",
       "      <td>0.000000</td>\n",
       "      <td>65753.272205</td>\n",
       "      <td>67227.883480</td>\n",
       "    </tr>\n",
       "    <tr>\n",
       "      <td>2</td>\n",
       "      <td>RandomForestRegressor</td>\n",
       "      <td>53549.689641</td>\n",
       "      <td>22229.400150</td>\n",
       "      <td>51035.625839</td>\n",
       "      <td>51495.295941</td>\n",
       "    </tr>\n",
       "    <tr>\n",
       "      <td>3</td>\n",
       "      <td>SVR</td>\n",
       "      <td>118699.611696</td>\n",
       "      <td>118586.110345</td>\n",
       "      <td>71432.579370</td>\n",
       "      <td>71319.844179</td>\n",
       "    </tr>\n",
       "  </tbody>\n",
       "</table>\n",
       "</div>"
      ],
      "text/plain": [
       "              model_name      val_rmse:     train_rmse     rmse_grid  \\\n",
       "0       LinearRegression   70317.697529   69958.399403  70317.812617   \n",
       "1  DecisionTreeRegressor   71901.260736       0.000000  65753.272205   \n",
       "2  RandomForestRegressor   53549.689641   22229.400150  51035.625839   \n",
       "3                    SVR  118699.611696  118586.110345  71432.579370   \n",
       "\n",
       "   rmse_randomized  \n",
       "0     70317.812617  \n",
       "1     67227.883480  \n",
       "2     51495.295941  \n",
       "3     71319.844179  "
      ]
     },
     "execution_count": 11,
     "metadata": {},
     "output_type": "execute_result"
    }
   ],
   "source": [
    "lin_reg = LinearRegression()\n",
    "decision_tree = DecisionTreeRegressor()\n",
    "random_forest = RandomForestRegressor()\n",
    "svm = SVR()\n",
    "\n",
    "model_list = [lin_reg, decision_tree, random_forest,svm]\n",
    "rmse_results = []\n",
    "param_grid =[{'normalize':[True,False]},\n",
    "             {'min_samples_split':[4,12],'max_features':[2,4,6,8]},\n",
    "             {'n_estimators':[3,10,30],'max_features':[2,4,6,8]},\n",
    "             {'C': [1, 10, 100, 1000], 'kernel': ['linear','rbf']}]\n",
    "\n",
    "param = [{'normalize':[True,False]},\n",
    "         {'min_samples_split':randint(4,12),'max_features':randint(2,8)},\n",
    "         {'n_estimators':randint(10,30),'max_features':randint(2,8)},\n",
    "         {'C': randint(500,2000), 'kernel': ['linear','rbf'],'gamma':[0.0001,0.0005,0.001]}]\n",
    "\n",
    "for c,model in enumerate(model_list):\n",
    "    #rmse on training set\n",
    "    model.fit(housing_prepared,housing_label)\n",
    "    housing_prediction = model.predict(housing_prepared)\n",
    "    rmse_training = np.sqrt(mean_squared_error(housing_label,housing_prediction))\n",
    "    #rmse on validation set\n",
    "    scores = cross_val_score(model,housing_prepared,housing_label,scoring='neg_mean_squared_error')\n",
    "    rmse_validation = np.sqrt(-scores)\n",
    "    #grid serach\n",
    "    grid_search = GridSearchCV(model,param_grid[c],scoring='neg_mean_squared_error')\n",
    "    grid_search.fit(housing_prepared,housing_label)\n",
    "    grid_results = grid_search.cv_results_\n",
    "    rmse_grid = min(np.sqrt(-grid_results['mean_test_score']))\n",
    "    #randomized search\n",
    "    random_search = RandomizedSearchCV(model,param[c],scoring='neg_mean_squared_error')\n",
    "    random_search.fit(housing_prepared,housing_label)\n",
    "    random_results = random_search.cv_results_\n",
    "    rmse_random = min(np.sqrt(-random_results['mean_test_score']))\n",
    "    rmse_results.append({'model_name':str(model_list[c]).split('(')[0],'val_rmse:':np.mean(rmse_validation),'train_rmse':rmse_training,'rmse_grid':rmse_grid, 'rmse_randomized':rmse_random})\n",
    "pd.DataFrame(rmse_results)\n",
    "    \n",
    "\n",
    "    "
   ]
  },
  {
   "cell_type": "code",
   "execution_count": 12,
   "metadata": {},
   "outputs": [],
   "source": [
    "rmse = pd.DataFrame(rmse_results)\n",
    "rmse.to_csv('rmse_train.csv')"
   ]
  },
  {
   "cell_type": "markdown",
   "metadata": {},
   "source": [
    "## Test "
   ]
  },
  {
   "cell_type": "code",
   "execution_count": 56,
   "metadata": {},
   "outputs": [
    {
     "name": "stderr",
     "output_type": "stream",
     "text": [
      "C:\\ProgramData\\Anaconda3\\lib\\site-packages\\sklearn\\utils\\deprecation.py:66: DeprecationWarning: Class Imputer is deprecated; Imputer was deprecated in version 0.20 and will be removed in 0.22. Import impute.SimpleImputer from sklearn instead.\n",
      "  warnings.warn(msg, category=DeprecationWarning)\n"
     ]
    }
   ],
   "source": [
    "#everything in one pipeline: data preparation and model\n",
    "from sklearn.ensemble import RandomForestClassifier\n",
    "clf = RandomForestClassifier(n_estimators=2, random_state=0, n_jobs=-1)\n",
    "sfm = SelectFromModel(clf, threshold=0.1)\n",
    "random_forest = RandomForestRegressor(max_features = 6, n_estimators = 30)\n",
    "\n",
    "num_attr = list(housing_num)\n",
    "cat_attr = ['ocean_proximity']\n",
    "num_pipeline = Pipeline([('selector',DataFrameSelector(num_attr)),\n",
    "                         ('imputer',Imputer(strategy='median')),\n",
    "                         #('attribs_adder',CombinedAttributesAdder()),\n",
    "                         ('std_scaler',StandardScaler())\n",
    "                        ])\n",
    "\n",
    "cat_pipeline = Pipeline([('selector',DataFrameSelector(cat_attr)),\n",
    "                         ('onehot',OneHotEncoder())\n",
    "                        ])\n",
    "## to connect two pipelines in one\n",
    "full_pipeline = FeatureUnion(transformer_list=[('num_pipeline',num_pipeline),('cat_pipeline',cat_pipeline)])\n",
    "\n",
    "\n",
    "fpipe = Pipeline([\n",
    "    ('full', full_pipeline),\n",
    "    ('selector', sfm),\n",
    "    ('rf',random_forest)\n",
    "                 \n",
    "                 ])\n",
    "\n",
    "\n",
    "\n",
    "\n",
    "housing_prepared = fpipe.fit(housing, housing_label)\n"
   ]
  },
  {
   "cell_type": "code",
   "execution_count": 55,
   "metadata": {},
   "outputs": [
    {
     "data": {
      "text/plain": [
       "48508.85670670461"
      ]
     },
     "execution_count": 55,
     "metadata": {},
     "output_type": "execute_result"
    }
   ],
   "source": [
    "housing_prediction = housing_prepared.predict(housing_test)\n",
    "rmse_test = np.sqrt(mean_squared_error(housing_label_test,housing_prediction))\n",
    "rmse_test"
   ]
  },
  {
   "cell_type": "code",
   "execution_count": 57,
   "metadata": {},
   "outputs": [
    {
     "data": {
      "text/plain": [
       "Pipeline(memory=None,\n",
       "         steps=[('full',\n",
       "                 FeatureUnion(n_jobs=None,\n",
       "                              transformer_list=[('num_pipeline',\n",
       "                                                 Pipeline(memory=None,\n",
       "                                                          steps=[('selector',\n",
       "                                                                  DataFrameSelector(attributes_name=['longitude',\n",
       "                                                                                                     'latitude',\n",
       "                                                                                                     'housing_median_age',\n",
       "                                                                                                     'total_rooms',\n",
       "                                                                                                     'total_bedrooms',\n",
       "                                                                                                     'population',\n",
       "                                                                                                     'households',\n",
       "                                                                                                     'median_income',\n",
       "                                                                                                     'median_income_cat'])),\n",
       "                                                                 ('imputer',\n",
       "                                                                  Imputer(axis=0,\n",
       "                                                                          copy=True,\n",
       "                                                                          miss...\n",
       "                                 max_features=None, norm_order=1, prefit=False,\n",
       "                                 threshold=0.1)),\n",
       "                ('rf',\n",
       "                 RandomForestRegressor(bootstrap=True, criterion='mse',\n",
       "                                       max_depth=None, max_features=6,\n",
       "                                       max_leaf_nodes=None,\n",
       "                                       min_impurity_decrease=0.0,\n",
       "                                       min_impurity_split=None,\n",
       "                                       min_samples_leaf=1, min_samples_split=2,\n",
       "                                       min_weight_fraction_leaf=0.0,\n",
       "                                       n_estimators=30, n_jobs=None,\n",
       "                                       oob_score=False, random_state=None,\n",
       "                                       verbose=0, warm_start=False))],\n",
       "         verbose=False)"
      ]
     },
     "execution_count": 57,
     "metadata": {},
     "output_type": "execute_result"
    }
   ],
   "source": [
    "housing_prepared"
   ]
  },
  {
   "cell_type": "code",
   "execution_count": 32,
   "metadata": {},
   "outputs": [
    {
     "data": {
      "text/plain": [
       "48377.299927407425"
      ]
     },
     "execution_count": 32,
     "metadata": {},
     "output_type": "execute_result"
    }
   ],
   "source": [
    "#pipeline for data preparation plus seperate model\n",
    "housing_test = strat_test_set.copy()\n",
    "\n",
    "housing_test = strat_test_set.drop('median_house_value',axis=1)\n",
    "housing_label_test = strat_test_set['median_house_value'].copy()\n",
    "\n",
    "housing_prepared_test = fpipe.transform(housing_test)\n",
    "\n",
    "random_forest = RandomForestRegressor(max_features = 6, n_estimators = 30)\n",
    "random_forest.fit(housing_prepared,housing_label)\n",
    "housing_prediction = random_forest.predict(housing_prepared_test)\n",
    "rmse_test = np.sqrt(mean_squared_error(housing_label_test,housing_prediction))\n",
    "rmse_test\n"
   ]
  },
  {
   "cell_type": "code",
   "execution_count": 20,
   "metadata": {},
   "outputs": [
    {
     "name": "stdout",
     "output_type": "stream",
     "text": [
      "63913.79671265874 {'max_features': 2, 'n_estimators': 3}\n",
      "56273.68590309125 {'max_features': 2, 'n_estimators': 10}\n",
      "53904.3614641382 {'max_features': 2, 'n_estimators': 30}\n",
      "60732.92013240154 {'max_features': 4, 'n_estimators': 3}\n",
      "53003.4300213179 {'max_features': 4, 'n_estimators': 10}\n",
      "51240.26690111831 {'max_features': 4, 'n_estimators': 30}\n",
      "60942.79054925182 {'max_features': 6, 'n_estimators': 3}\n",
      "52673.35189717745 {'max_features': 6, 'n_estimators': 10}\n",
      "51095.83680836735 {'max_features': 6, 'n_estimators': 30}\n",
      "60451.73527219596 {'max_features': 8, 'n_estimators': 3}\n",
      "53621.732746493304 {'max_features': 8, 'n_estimators': 10}\n",
      "51817.15315956504 {'max_features': 8, 'n_estimators': 30}\n"
     ]
    }
   ],
   "source": [
    "for score, param in zip(grid_results['mean_test_score'],grid_results['params']):\n",
    "    print(np.sqrt(-score),param)"
   ]
  },
  {
   "cell_type": "markdown",
   "metadata": {},
   "source": [
    "## Exercises"
   ]
  },
  {
   "cell_type": "markdown",
   "metadata": {},
   "source": [
    "### SVM\n"
   ]
  },
  {
   "cell_type": "code",
   "execution_count": null,
   "metadata": {},
   "outputs": [],
   "source": [
    "params =  [\n",
    "  {'C': [1, 10, 100, 1000], 'kernel': ['linear']},\n",
    "  {'C': [1, 10, 100, 1000], 'gamma': [0.001, 0.0001], 'kernel': ['rbf']},\n",
    " ]\n",
    "grid_svm = GridSearchCV(svm,params,cv=5,scoring='neg_mean_squared_error')\n",
    "grid_svm.fit(housing_prepared,housing_label)\n",
    "grid_results = grid_svm.cv_results_\n",
    "rmse_svr = min(np.sqrt(-grid_results['mean_test_score']))"
   ]
  },
  {
   "cell_type": "code",
   "execution_count": null,
   "metadata": {},
   "outputs": [],
   "source": [
    "for mean, param in zip(np.sqrt(-grid_results['mean_test_score']),grid_results['params']):\n",
    "    print(mean,param)"
   ]
  },
  {
   "cell_type": "code",
   "execution_count": null,
   "metadata": {},
   "outputs": [],
   "source": [
    "pd.DataFrame(rmse_results)"
   ]
  },
  {
   "cell_type": "markdown",
   "metadata": {},
   "source": [
    "## GridSearchCV for transformer -> CombinedAttributesAdder"
   ]
  },
  {
   "cell_type": "code",
   "execution_count": null,
   "metadata": {},
   "outputs": [],
   "source": [
    "# create pipeline with a scaler \n",
    "combined = CombinedAttributesAdder()\n",
    "steps = [('combined_attributes',combined),('random_forest',random_forest)]\n",
    "pipeline = Pipeline(steps)\n",
    "#parameters\n",
    "param =  {'combined_attributes__add_bedrooms_per_room': [True,False]}\n",
    "#do search\n",
    "grid_search_extra_param = GridSearchCV(pipeline,param,cv=5,scoring='neg_mean_squared_error')\n",
    "grid_search_extra_param.fit(housing_prepared.toarray(), housing_label)\n",
    "grid_results = grid_search_extra_param.cv_results_\n",
    "grid_results['mean_test_score']\n",
    "rmse_grid_extra_param = min(np.sqrt(-grid_results['mean_test_score']))\n",
    "rmse_grid_extra_param\n",
    "\n",
    "\n",
    "\n"
   ]
  }
 ],
 "metadata": {
  "kernelspec": {
   "display_name": "Python 3",
   "language": "python",
   "name": "python3"
  },
  "language_info": {
   "codemirror_mode": {
    "name": "ipython",
    "version": 3
   },
   "file_extension": ".py",
   "mimetype": "text/x-python",
   "name": "python",
   "nbconvert_exporter": "python",
   "pygments_lexer": "ipython3",
   "version": "3.7.4"
  }
 },
 "nbformat": 4,
 "nbformat_minor": 2
}
