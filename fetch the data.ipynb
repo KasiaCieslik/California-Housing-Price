{
 "cells": [
  {
   "cell_type": "code",
   "execution_count": 16,
   "metadata": {},
   "outputs": [],
   "source": [
    "import os\n",
    "import tarfile\n",
    "from six.moves import urllib\n",
    "\n",
    "housing_url = r'C:\\Users\\kk\\Documents\\Python Projects\\California Housing Price\\handson-ml\\datasets\\housing'\n",
    "file_to_extract = r'\\housing.tgz'\n",
    "def fetch_housing_data(housing_url,file_to_extract):\n",
    "    housing_tgz = tarfile.open(housing_url+file_to_extract)\n",
    "    housing_tgz.extractall(path = housing_url+'\\housing1.csv')\n",
    "    housing_tgz.close()"
   ]
  },
  {
   "cell_type": "code",
   "execution_count": 17,
   "metadata": {},
   "outputs": [],
   "source": [
    "fetch_housing_data(housing_url,file_to_extract)"
   ]
  },
  {
   "cell_type": "code",
   "execution_count": 13,
   "metadata": {},
   "outputs": [
    {
     "data": {
      "text/plain": [
       "'C:\\\\Users\\\\kk\\\\Documents\\\\Python Projects\\\\California Housing Price\\\\handson-ml\\\\datasets\\\\housing\\\\housing1.csv'"
      ]
     },
     "execution_count": 13,
     "metadata": {},
     "output_type": "execute_result"
    }
   ],
   "source": [
    "housing_url+'\\housing1.csv'"
   ]
  },
  {
   "cell_type": "code",
   "execution_count": null,
   "metadata": {},
   "outputs": [],
   "source": []
  }
 ],
 "metadata": {
  "kernelspec": {
   "display_name": "Python 3",
   "language": "python",
   "name": "python3"
  },
  "language_info": {
   "codemirror_mode": {
    "name": "ipython",
    "version": 3
   },
   "file_extension": ".py",
   "mimetype": "text/x-python",
   "name": "python",
   "nbconvert_exporter": "python",
   "pygments_lexer": "ipython3",
   "version": "3.7.4"
  }
 },
 "nbformat": 4,
 "nbformat_minor": 2
}
